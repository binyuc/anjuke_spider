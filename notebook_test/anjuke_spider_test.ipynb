{
 "cells": [
  {
   "cell_type": "code",
   "execution_count": 134,
   "id": "8e10da75-8408-4ec6-b78a-ad1949bed9df",
   "metadata": {
    "execution": {
     "iopub.execute_input": "2022-05-30T10:19:04.710607Z",
     "iopub.status.busy": "2022-05-30T10:19:04.710123Z",
     "iopub.status.idle": "2022-05-30T10:19:05.153199Z",
     "shell.execute_reply": "2022-05-30T10:19:05.152856Z",
     "shell.execute_reply.started": "2022-05-30T10:19:04.710559Z"
    },
    "tags": []
   },
   "outputs": [],
   "source": [
    "import requests\n",
    "import sys, os\n",
    "from os import path\n",
    "sys.path.append('/Users/admin/Desktop/个人项目/anjuke_spider/')\n",
    "import json\n",
    "import time\n",
    "from lxml import etree\n",
    "import pandas as pd"
   ]
  },
  {
   "cell_type": "markdown",
   "id": "c0b906b3-0c02-49a6-93ed-e5bb6ee06e46",
   "metadata": {},
   "source": [
    "## 访问小区页"
   ]
  },
  {
   "cell_type": "markdown",
   "id": "1c662381-e0de-4ee9-a1a8-4ecd60ad291e",
   "metadata": {},
   "source": [
    "https://shanghai.anjuke.com/community/"
   ]
  },
  {
   "cell_type": "code",
   "execution_count": 56,
   "id": "99b89cb5-8fd3-44a3-8d37-cb3a7d7cb5e1",
   "metadata": {
    "execution": {
     "iopub.execute_input": "2022-05-30T09:20:14.555473Z",
     "iopub.status.busy": "2022-05-30T09:20:14.555015Z",
     "iopub.status.idle": "2022-05-30T09:20:15.146277Z",
     "shell.execute_reply": "2022-05-30T09:20:15.145198Z",
     "shell.execute_reply.started": "2022-05-30T09:20:14.555410Z"
    },
    "tags": []
   },
   "outputs": [],
   "source": [
    "url = 'https://shanghai.anjuke.com/community/'\n",
    "headers={\n",
    "    'User-Agent':'Mozilla/5.0 (Windows NT 10.0; Win64; x64) AppleWebKit/537.36 (KHTML, like Gecko) Chrome/91.0.4472.77 Safari/537.36',\n",
    "    'cookie':'sessid=E5EC0E4B-4C48-5B5C-EA77-0440C24A6AA9; aQQ_ajkguid=CCE441E6-9D82-1788-8FBA-0CC0FF482D49; ctid=11; twe=2; wmda_uuid=d639d05f241b74c8beb2a345090a7fd0; wmda_visited_projects=%3B6289197098934; id58=CrIHp2KUeFJ3BwnFBDASAg==; _ga=GA1.2.195237907.1653897298; _gid=GA1.2.1335426594.1653897298; 58tj_uuid=eaa6df61-18e8-4312-aa47-cf0957ff79eb; als=0; isp=true; fzq_h=a8eafab09d9ac1214696944d51bfec63_1653897320816_e289a17d57a74bba842cb3323c952e81_1709567291; seo_source_type=0; ajk-appVersion=; fzq_js_anjuke_ershoufang_pc=d238625fb6060c04469e1290eecaf2fc_1653901810905_23; wmda_session_id_6289197098934=1653902105642-7a60deb2-a3d4-3a6c; init_refer=; new_uv=2; new_session=0; obtain_by=2; ajk_member_verify=hAjDLO%2BYv6cH48rAMRWcG5I9XasyuqFQJw2W5QBmVbQ%3D; ajk_member_verify2=MjQ5NDcyMzQ3fHM2bXhLcnB8MQ%3D%3D; fzq_js_anjuke_xiaoqu_pc=44116584dff4e49396a76958d4b4a52a_1653902184987_25; ajkAuthTicket=TT=829e0f92da645d9b3485dcff94af291f&TS=1653902185446&PBODY=bBYOIqzmDkmfSozXHfcqw52GMfhLdSaaaHf6GSYWhWbUEHmPXKnES1fphveH8j0E2pWLYSTckhR5NgSPUGLTSFtMO3ZsvP_APhExnjS8gWtC2G1eEMyXwPPHFJ9y9mN7IUQkclJkBxsSh1QnawYbMAOsmGAEWK2Si0ABL4TtJb4&VER=2&CUID=P0ki0_oMTt8NAdOd0tDoYwj5svAO2gEh; xxzl_cid=7e414a50acbe4a57b67cf17d00b35ce1; xzuid=3f01ada0-a8d8-48ee-a0fc-fbc3c396b549'}\n",
    "\n",
    "res = requests.get(url=url,headers=headers)\n",
    "tree = etree.HTML(res.text)"
   ]
  },
  {
   "cell_type": "markdown",
   "id": "61f80683-7d46-44ea-a362-1271229a0db9",
   "metadata": {},
   "source": [
    "## 获取城区"
   ]
  },
  {
   "cell_type": "code",
   "execution_count": 71,
   "id": "0827f202-fc20-46c0-982b-6d1e4c4e84d0",
   "metadata": {
    "execution": {
     "iopub.execute_input": "2022-05-30T09:43:59.691945Z",
     "iopub.status.busy": "2022-05-30T09:43:59.689868Z",
     "iopub.status.idle": "2022-05-30T09:43:59.709723Z",
     "shell.execute_reply": "2022-05-30T09:43:59.707174Z",
     "shell.execute_reply.started": "2022-05-30T09:43:59.691827Z"
    },
    "tags": []
   },
   "outputs": [],
   "source": [
    "region_list = []\n",
    "for li in tree.xpath('/html/body/div/div/div/section/section[2]/div[1]/section/div/ul/li')[1:]:\n",
    "    temp={}\n",
    "    temp['region_url'] = li.xpath('./a/@href')[0]\n",
    "    temp['region_name'] = li.xpath('./a/text()')[0]\n",
    "    region_list.append(temp)"
   ]
  },
  {
   "cell_type": "code",
   "execution_count": 72,
   "id": "b344e369-90f6-4ea9-b3d0-3af408ce31a8",
   "metadata": {
    "execution": {
     "iopub.execute_input": "2022-05-30T09:44:02.194517Z",
     "iopub.status.busy": "2022-05-30T09:44:02.193862Z",
     "iopub.status.idle": "2022-05-30T09:44:02.205278Z",
     "shell.execute_reply": "2022-05-30T09:44:02.203553Z",
     "shell.execute_reply.started": "2022-05-30T09:44:02.194464Z"
    },
    "tags": []
   },
   "outputs": [],
   "source": [
    "# with open('/Users/admin/Desktop/个人项目/anjuke_spider/cache/region_list.json','w') as fp:\n",
    "#     json.dump(region_list,fp)"
   ]
  },
  {
   "cell_type": "markdown",
   "id": "d637fb50-db51-404c-afe9-fb72aa400946",
   "metadata": {},
   "source": [
    "## 获取街道"
   ]
  },
  {
   "cell_type": "code",
   "execution_count": 86,
   "id": "2200d3a8-bf4d-480a-bae5-0578ee94c1d4",
   "metadata": {
    "execution": {
     "iopub.execute_input": "2022-05-30T09:47:57.260515Z",
     "iopub.status.busy": "2022-05-30T09:47:57.259882Z",
     "iopub.status.idle": "2022-05-30T09:48:24.647673Z",
     "shell.execute_reply": "2022-05-30T09:48:24.646897Z",
     "shell.execute_reply.started": "2022-05-30T09:47:57.260429Z"
    },
    "tags": []
   },
   "outputs": [],
   "source": [
    "neighbor_list = []\n",
    "for i in region_list: #跳过第一个\n",
    "    res = requests.get(url=i['region_url'],headers=headers)\n",
    "    time.sleep(1)\n",
    "    tree = etree.HTML(res.text)\n",
    "    for li in tree.xpath('/html/body/div/div/div/section/section[2]/div[1]/section/div/div[2]/li')[1:]:\n",
    "        temp={}\n",
    "        temp['neighbor_url'] = li.xpath('./a/@href')[0]\n",
    "        temp['neighbor_name'] = li.xpath('./a/text()')[0]\n",
    "        neighbor_list.append(temp)"
   ]
  },
  {
   "cell_type": "code",
   "execution_count": 88,
   "id": "efc30496-b2b3-4256-8599-8d4f3b0c8f34",
   "metadata": {
    "execution": {
     "iopub.execute_input": "2022-05-30T09:48:56.247831Z",
     "iopub.status.busy": "2022-05-30T09:48:56.247343Z",
     "iopub.status.idle": "2022-05-30T09:48:56.264241Z",
     "shell.execute_reply": "2022-05-30T09:48:56.262657Z",
     "shell.execute_reply.started": "2022-05-30T09:48:56.247784Z"
    }
   },
   "outputs": [],
   "source": [
    "# with open('/Users/admin/Desktop/个人项目/anjuke_spider/cache/neighbor_list.json','w') as fp:\n",
    "#     json.dump(neighbor_list,fp)"
   ]
  },
  {
   "cell_type": "code",
   "execution_count": 242,
   "id": "3b6babf3-f166-4bc7-838c-5910ef4d77f5",
   "metadata": {
    "execution": {
     "iopub.execute_input": "2022-05-30T13:48:17.390798Z",
     "iopub.status.busy": "2022-05-30T13:48:17.390298Z",
     "iopub.status.idle": "2022-05-30T13:48:17.403504Z",
     "shell.execute_reply": "2022-05-30T13:48:17.402414Z",
     "shell.execute_reply.started": "2022-05-30T13:48:17.390742Z"
    }
   },
   "outputs": [
    {
     "name": "stdout",
     "output_type": "stream",
     "text": [
      "312\n"
     ]
    }
   ],
   "source": [
    "with open('/Users/admin/Desktop/个人项目/anjuke_spider/cache/neighbor_list.json','r') as fp:\n",
    "    a = json.load(fp)\n",
    "print(len(a))"
   ]
  },
  {
   "cell_type": "markdown",
   "id": "171ad56a-8c6a-4026-838b-6de7bb26fc97",
   "metadata": {},
   "source": [
    "## 解析搜索页函数"
   ]
  },
  {
   "cell_type": "code",
   "execution_count": 156,
   "id": "f89b8d8a-8507-49a5-9d04-de0c438a5b76",
   "metadata": {
    "execution": {
     "iopub.execute_input": "2022-05-30T10:48:28.670511Z",
     "iopub.status.busy": "2022-05-30T10:48:28.668994Z",
     "iopub.status.idle": "2022-05-30T10:48:28.692476Z",
     "shell.execute_reply": "2022-05-30T10:48:28.689736Z",
     "shell.execute_reply.started": "2022-05-30T10:48:28.669894Z"
    },
    "tags": []
   },
   "outputs": [],
   "source": [
    "def parse_search_page(tree):\n",
    "    page_res = []\n",
    "    for a in tree.xpath('/html/body/div/div/div/section/section[3]/section/div[2]/a'):\n",
    "        temp = {}\n",
    "        temp['url']= a.xpath('./@href')[0]\n",
    "        temp['title']=a.xpath('.//div[@class=\"li-title\"]/div/text()')[0]\n",
    "        temp['year_address']=';'.join(a.xpath('.//div[@class=\"props nowrap\"]//text()'))\n",
    "        temp['tags'] = ';'.join(a.xpath('.//div[@class=\"prop-tags\"]/span/text()'))\n",
    "        try:\n",
    "            temp['price'] = a.xpath('.//div[@class=\"community-price\"]/strong/text()')[0]\n",
    "        except Exception as e:\n",
    "            temp['price'] = ''\n",
    "        page_res.append(temp)\n",
    "    return page_res"
   ]
  },
  {
   "cell_type": "code",
   "execution_count": 117,
   "id": "7ac7120e-a586-4b60-afb3-9af544031ae6",
   "metadata": {
    "execution": {
     "iopub.execute_input": "2022-05-30T10:09:12.586012Z",
     "iopub.status.busy": "2022-05-30T10:09:12.585489Z",
     "iopub.status.idle": "2022-05-30T10:09:12.601998Z",
     "shell.execute_reply": "2022-05-30T10:09:12.600533Z",
     "shell.execute_reply.started": "2022-05-30T10:09:12.585953Z"
    },
    "tags": []
   },
   "outputs": [],
   "source": [
    "search_page_res = []"
   ]
  },
  {
   "cell_type": "code",
   "execution_count": 120,
   "id": "464888d6-a69a-43c6-b843-6c81db951947",
   "metadata": {
    "execution": {
     "iopub.execute_input": "2022-05-30T10:09:26.633920Z",
     "iopub.status.busy": "2022-05-30T10:09:26.633429Z",
     "iopub.status.idle": "2022-05-30T10:09:27.199604Z",
     "shell.execute_reply": "2022-05-30T10:09:27.198945Z",
     "shell.execute_reply.started": "2022-05-30T10:09:26.633878Z"
    },
    "tags": []
   },
   "outputs": [],
   "source": [
    "for i in neighbor_list[1:]:\n",
    "    res = requests.get(url=i['neighbor_url'],headers=headers)\n",
    "    tree = etree.HTML(res.text)\n",
    "    page_res = parse_search_page(res)\n",
    "    search_page_res += page_res\n",
    "    break"
   ]
  },
  {
   "cell_type": "markdown",
   "id": "605e0d00-00e5-4658-a0a9-bc1db4e574b8",
   "metadata": {},
   "source": [
    "## 测试爬取"
   ]
  },
  {
   "cell_type": "code",
   "execution_count": 177,
   "id": "6f01a115-e5a0-460e-a15b-250406886961",
   "metadata": {
    "execution": {
     "iopub.execute_input": "2022-05-30T10:57:10.908960Z",
     "iopub.status.busy": "2022-05-30T10:57:10.907922Z",
     "iopub.status.idle": "2022-05-30T10:57:11.491806Z",
     "shell.execute_reply": "2022-05-30T10:57:11.491166Z",
     "shell.execute_reply.started": "2022-05-30T10:57:10.908878Z"
    },
    "tags": []
   },
   "outputs": [],
   "source": [
    "search_page_res = []\n",
    "for single_neighbor in neighbor_list[:1]:\n",
    "    res = requests.get(url= single_neighbor['neighbor_url'], headers=headers)\n",
    "    tree = etree.HTML(res.text)\n",
    "    page_res = []\n",
    "    for a in tree.xpath('/html/body/div/div/div/section/section[3]/section/div[2]/a'):\n",
    "        temp = {}\n",
    "        temp['url']= a.xpath('./@href')[0]\n",
    "        temp['title']=a.xpath('.//div[@class=\"li-title\"]/div/text()')[0]\n",
    "        temp['year_address']=';'.join(a.xpath('.//div[@class=\"props nowrap\"]//text()'))\n",
    "        temp['tags'] = ';'.join(a.xpath('.//div[@class=\"prop-tags\"]/span/text()'))\n",
    "        try:\n",
    "            temp['price'] = a.xpath('.//div[@class=\"community-price\"]/strong/text()')[0]\n",
    "        except Exception as e:\n",
    "            temp['price'] = ''\n",
    "        page_res.append(temp)\n",
    "    search_page_res += page_res        "
   ]
  },
  {
   "cell_type": "code",
   "execution_count": 178,
   "id": "fadd4a57-963f-46c4-87ab-f67d4568beb9",
   "metadata": {
    "execution": {
     "iopub.execute_input": "2022-05-30T10:57:12.943785Z",
     "iopub.status.busy": "2022-05-30T10:57:12.943428Z",
     "iopub.status.idle": "2022-05-30T10:57:12.952518Z",
     "shell.execute_reply": "2022-05-30T10:57:12.950914Z",
     "shell.execute_reply.started": "2022-05-30T10:57:12.943744Z"
    },
    "tags": []
   },
   "outputs": [
    {
     "data": {
      "text/plain": [
       "17"
      ]
     },
     "execution_count": 178,
     "metadata": {},
     "output_type": "execute_result"
    }
   ],
   "source": [
    "len(page_res)"
   ]
  },
  {
   "cell_type": "markdown",
   "id": "9545107a-da57-4b8a-aff0-130b3b304910",
   "metadata": {},
   "source": [
    "## 解析详情页"
   ]
  },
  {
   "cell_type": "code",
   "execution_count": 181,
   "id": "b57eeb59-778f-4907-92dc-219a9a85fb38",
   "metadata": {
    "execution": {
     "iopub.execute_input": "2022-05-30T10:59:27.664113Z",
     "iopub.status.busy": "2022-05-30T10:59:27.663294Z",
     "iopub.status.idle": "2022-05-30T10:59:28.613195Z",
     "shell.execute_reply": "2022-05-30T10:59:28.612419Z",
     "shell.execute_reply.started": "2022-05-30T10:59:27.664050Z"
    },
    "tags": []
   },
   "outputs": [],
   "source": [
    "for i in search_page_res:\n",
    "    res = requests.get(url=i['url'],headers=headers)\n",
    "    tree = etree.HTML(res.text)\n",
    "    break"
   ]
  },
  {
   "cell_type": "code",
   "execution_count": 240,
   "id": "3dd995ef-a020-479f-aa44-28f40b218aba",
   "metadata": {
    "execution": {
     "iopub.execute_input": "2022-05-30T11:23:09.562096Z",
     "iopub.status.busy": "2022-05-30T11:23:09.561417Z",
     "iopub.status.idle": "2022-05-30T11:23:09.580742Z",
     "shell.execute_reply": "2022-05-30T11:23:09.578662Z",
     "shell.execute_reply.started": "2022-05-30T11:23:09.562034Z"
    },
    "tags": []
   },
   "outputs": [],
   "source": [
    "detail_info = {}\n",
    "\n",
    "for div in tree.xpath('//div[@class=\"info\"]/div[@class=\"info-list\"]/div'):\n",
    "    temp = {}\n",
    "    label = div.xpath('./div[@class=\"label\"]/text()')[0]\n",
    "    try:\n",
    "        value = div.xpath('./div[@class=\"hover\"]/div[1]/text()')[0].replace('\\n','').replace(' ','')\n",
    "    except Exception as e:\n",
    "        value = ''.join(div.xpath('./div[2]//text()')).replace('\\n','').replace(' ','')\n",
    "    \n",
    "    temp[label]= value\n",
    "\n",
    "    detail_info.update(**temp) "
   ]
  },
  {
   "cell_type": "code",
   "execution_count": 241,
   "id": "5c91ea56-e5db-4c5b-a46b-7f97061ddc7c",
   "metadata": {
    "execution": {
     "iopub.execute_input": "2022-05-30T11:23:10.271354Z",
     "iopub.status.busy": "2022-05-30T11:23:10.270929Z",
     "iopub.status.idle": "2022-05-30T11:23:10.281780Z",
     "shell.execute_reply": "2022-05-30T11:23:10.280488Z",
     "shell.execute_reply.started": "2022-05-30T11:23:10.271312Z"
    },
    "tags": []
   },
   "outputs": [
    {
     "data": {
      "text/plain": [
       "{'物业类型': '公寓住宅',\n",
       " '权属类别': '商品房住宅',\n",
       " '竣工时间': '2004年',\n",
       " '产权年限': '70年',\n",
       " '总户数': '421户',\n",
       " '总建面积': '暂无',\n",
       " '容积率': '2.88',\n",
       " '绿化率': '43.0%',\n",
       " '建筑类型': '高层',\n",
       " '所属商圈': '花木',\n",
       " '统一供暖': '否',\n",
       " '供水供电': '民用',\n",
       " '停车位': '287(1:0.7)',\n",
       " '物业费': '3.50元/平米/月',\n",
       " '停车费': '地面150.00元/月',\n",
       " '车位管理费': '暂无',\n",
       " '物业公司': '业主自管',\n",
       " '小区地址': '东绣路66弄',\n",
       " '开发商': '单位自建'}"
      ]
     },
     "execution_count": 241,
     "metadata": {},
     "output_type": "execute_result"
    }
   ],
   "source": [
    "detail_info"
   ]
  },
  {
   "cell_type": "markdown",
   "id": "6f10be69-e084-4526-90d5-ed6b43294e2d",
   "metadata": {},
   "source": [
    "## 获取失败的url"
   ]
  },
  {
   "cell_type": "code",
   "execution_count": null,
   "id": "67c49714-f405-4023-9271-f170e754f6cd",
   "metadata": {},
   "outputs": [],
   "source": []
  }
 ],
 "metadata": {
  "kernelspec": {
   "display_name": "Python 3",
   "language": "python",
   "name": "python3"
  },
  "language_info": {
   "codemirror_mode": {
    "name": "ipython",
    "version": 3
   },
   "file_extension": ".py",
   "mimetype": "text/x-python",
   "name": "python",
   "nbconvert_exporter": "python",
   "pygments_lexer": "ipython3",
   "version": "3.7.11"
  }
 },
 "nbformat": 4,
 "nbformat_minor": 5
}
